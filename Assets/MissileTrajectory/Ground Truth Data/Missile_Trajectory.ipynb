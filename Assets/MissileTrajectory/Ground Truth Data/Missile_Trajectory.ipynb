{
  "nbformat": 4,
  "nbformat_minor": 0,
  "metadata": {
    "colab": {
      "name": "Missile_Trajectory.ipynb",
      "provenance": []
    },
    "kernelspec": {
      "name": "python3",
      "display_name": "Python 3"
    },
    "language_info": {
      "name": "python"
    }
  },
  "cells": [
    {
      "cell_type": "code",
      "metadata": {
        "id": "aYXAjo5QDh0e"
      },
      "source": [
        "import numpy as np\n",
        "import matplotlib.pyplot as plt \n",
        "import mpl_toolkits.mplot3d.axes3d as p3\n",
        "import pandas as pd\n",
        "\n",
        "def plot3D(filename, xColumnName, yColumnName, zColumnName):\n",
        "\n",
        "\t# Attaching 3D axis to the figure\n",
        "\tfig = plt.figure()\n",
        "\tax = p3.Axes3D(fig)\n",
        "\n",
        "\t# Reading the data from a CSV file using pandas\n",
        "\trepo = pd.read_csv(filename,sep=',',header=0)\n",
        "\n",
        "\t# Store the data into an array\n",
        "\tdata = np.array((repo[xColumnName].values, repo[yColumnName].values, repo[zColumnName].values))\n",
        "\n",
        "\t# Determine the number of total values in the columns\n",
        "\txValues = len(repo[xColumnName].values)\n",
        "\tyValues = len(repo[yColumnName].values)\n",
        "\tzValues = len(repo[zColumnName].values)\n",
        "\t\n",
        "\t# NOTE: Empty arrays into 3d version of plot() can't be passed\n",
        "\tax.plot(data[0, 0:xValues], data[1, 0:yValues], data[2, 0:zValues])[0]\n",
        "\n",
        "\t# Labeling the axes\n",
        "\tax.set_xlabel('X')\n",
        "\tax.set_ylabel('Y')\n",
        "\tax.set_zlabel('Z')\n",
        "\n",
        "\t# Set the azimuth and elevation to an initial value\n",
        "\tax.view_init(azim = 45, elev = 15)\n",
        "\n",
        "\t# Revert z axis (negative is up, positive is down)\n",
        "\tax.invert_zaxis()\n",
        "\n",
        "\tplt.show()\n",
        "\n",
        "plot3D(\"target_annotation1.csv\", \"Pos_x\", \"Pos_y\", \"Pos_z\")"
      ],
      "execution_count": 4,
      "outputs": []
    },
    {
      "cell_type": "code",
      "metadata": {
        "id": "61MniFgkDrRz"
      },
      "source": [
        ""
      ],
      "execution_count": null,
      "outputs": []
    }
  ]
}